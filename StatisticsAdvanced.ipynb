{
 "cells": [
  {
   "cell_type": "markdown",
   "id": "36267b8f-38fa-4a35-b1c3-8ffcd15a47db",
   "metadata": {},
   "source": [
    "# Ans : 1"
   ]
  },
  {
   "cell_type": "code",
   "execution_count": 1,
   "id": "28c2a0ca-f020-41ec-84f1-69559f6756d7",
   "metadata": {},
   "outputs": [
    {
     "data": {
      "text/plain": [
       "'\\n Probability density function : The Probability Density Function (PDF) is a concept in statistics and probability theory.\\n                It defines the likelihood of a continuous random variable falling within a specific range. \\n                    \\n  The PDF is often denoted as f(x), where x represents the variable, and the area under the curve of the function over a given\\n  range corresponds to the probability of the variable falling within that range.\\n  \\n'"
      ]
     },
     "execution_count": 1,
     "metadata": {},
     "output_type": "execute_result"
    }
   ],
   "source": [
    "'''\n",
    " Probability density function : The Probability Density Function (PDF) is a concept in statistics and probability theory.\n",
    "                It defines the likelihood of a continuous random variable falling within a specific range. \n",
    "                    \n",
    "  The PDF is often denoted as f(x), where x represents the variable, and the area under the curve of the function over a given\n",
    "  range corresponds to the probability of the variable falling within that range.\n",
    "  \n",
    "'''"
   ]
  },
  {
   "cell_type": "markdown",
   "id": "afcc7a46-1446-4ab9-9801-4211cf5f23f5",
   "metadata": {},
   "source": [
    "# Ans : 2"
   ]
  },
  {
   "cell_type": "code",
   "execution_count": 2,
   "id": "247dcc8f-09ad-4f1f-97e6-26aa1c204ca3",
   "metadata": {},
   "outputs": [
    {
     "data": {
      "text/plain": [
       "'\\nDifferent types of probability density function : \\n\\n1. Discrete Probability Distributions:\\n    > Bernoulli Distribution: Describes a random experiment with two possible outcomes (success or failure).\\n    > Binomial Distribution: Represents the number of successes in a fixed number of independent Bernoulli trials.\\n    > Poisson Distribution: Models the number of events occurring in a fixed interval of time or space.\\n    \\n2. Continuous Probability Distributions:\\n    >Normal (Gaussian) Distribution: Symmetric bell-shaped curve commonly found in natural phenomena. Describes many real-world processes.\\n    > Uniform Distribution: All outcomes in a given range are equally likely.\\n    > Exponential Distribution: Models the time until an event occurs in a Poisson process.\\n    > Chi-Square Distribution: Used in statistical tests, often in the context of hypothesis testing.\\n    > Cauchy Distribution: Has heavy tails and no defined mean or variance.\\n\\n3. Multinomial Distribution: Generalization of the binomial distribution to more than two categories.\\n\\n4. Hypergeometric Distribution: Models the probability of a specific number of successes in a sequence of draws without replacement.\\n\\n\\n'"
      ]
     },
     "execution_count": 2,
     "metadata": {},
     "output_type": "execute_result"
    }
   ],
   "source": [
    "'''\n",
    "Different types of probability density function : \n",
    "\n",
    "1. Discrete Probability Distributions:\n",
    "    > Bernoulli Distribution: Describes a random experiment with two possible outcomes (success or failure).\n",
    "    > Binomial Distribution: Represents the number of successes in a fixed number of independent Bernoulli trials.\n",
    "    > Poisson Distribution: Models the number of events occurring in a fixed interval of time or space.\n",
    "    \n",
    "2. Continuous Probability Distributions:\n",
    "    >Normal (Gaussian) Distribution: Symmetric bell-shaped curve commonly found in natural phenomena. Describes many real-world processes.\n",
    "    > Uniform Distribution: All outcomes in a given range are equally likely.\n",
    "    > Exponential Distribution: Models the time until an event occurs in a Poisson process.\n",
    "    > Chi-Square Distribution: Used in statistical tests, often in the context of hypothesis testing.\n",
    "    > Cauchy Distribution: Has heavy tails and no defined mean or variance.\n",
    "\n",
    "3. Multinomial Distribution: Generalization of the binomial distribution to more than two categories.\n",
    "\n",
    "4. Hypergeometric Distribution: Models the probability of a specific number of successes in a sequence of draws without replacement.\n",
    "\n",
    "\n",
    "'''"
   ]
  },
  {
   "cell_type": "markdown",
   "id": "01e79d68-acb1-416c-b4b3-011428fb25d9",
   "metadata": {},
   "source": [
    "# Ans : 3"
   ]
  },
  {
   "cell_type": "code",
   "execution_count": 6,
   "id": "a6471887-cce3-4512-aed7-69bae09a4039",
   "metadata": {},
   "outputs": [
    {
     "name": "stdout",
     "output_type": "stream",
     "text": [
      "The PDF at x=1.5 is: 0.12951759566589174\n"
     ]
    }
   ],
   "source": [
    "import math\n",
    "\n",
    "def normal_pdf(x, mean, std_dev):\n",
    "    coefficient = 1 / (std_dev * math.sqrt(2 * math.pi))\n",
    "    exponent = -0.5 * ((x - mean) / std_dev)**2\n",
    "    pdf_value = coefficient * math.exp(exponent)\n",
    "    return pdf_value\n",
    "\n",
    "\n",
    "mean_value = 0\n",
    "std_dev_value = 1\n",
    "point = 1.5\n",
    "\n",
    "pdf_result = normal_pdf(point, mean_value, std_dev_value)\n",
    "print(f\"The PDF at x={point} is: {pdf_result}\")"
   ]
  },
  {
   "cell_type": "markdown",
   "id": "ab497b1a-ec38-47d3-b724-a6596196820e",
   "metadata": {},
   "source": [
    "# Ans : 4"
   ]
  },
  {
   "cell_type": "code",
   "execution_count": 7,
   "id": "686aea9e-8e0c-4e01-a7c3-07bbeaf423a5",
   "metadata": {},
   "outputs": [
    {
     "data": {
      "text/plain": [
       "'\\nProperties of Binomial Distribution:\\n\\n1. Fixed Number of Trials: The binomial distribution describes a fixed number (n) of independent and identical trials or experiments.\\n\\n2. Two Possible Outcomes: Each trial has only two possible outcomes, commonly referred to as success and failure.\\n\\n3. Constant Probability of Success: The probability of success (denoted as p) remains constant for each trial.\\n\\n4. Independent Trials: The outcomes of each trial are independent of each other.\\n\\n5. Discrete Random Variable: The binomial random variable represents the number of successes in the fixed number of trials and is discrete.\\n\\n\\nexamples of events where binomial distribution can be applied:\\n\\n1. Coin Flipping:\\n    Example: Tossing a fair coin multiple times and counting the number of heads. Each toss has two outcomes (heads or tails),\\n    the probability of getting heads remains constant, and the trials are independent.\\n\\n2. Exam Success/Failure:\\n        Example: The probability distribution of the number of students passing or failing an exam with a fixed number of \\n        questions. Each question can be considered a trial, with two outcomes (pass or fail), and the probability of passing\\n        remains constant.\\n        \\n'"
      ]
     },
     "execution_count": 7,
     "metadata": {},
     "output_type": "execute_result"
    }
   ],
   "source": [
    "'''\n",
    "Properties of Binomial Distribution:\n",
    "\n",
    "1. Fixed Number of Trials: The binomial distribution describes a fixed number (n) of independent and identical trials or experiments.\n",
    "\n",
    "2. Two Possible Outcomes: Each trial has only two possible outcomes, commonly referred to as success and failure.\n",
    "\n",
    "3. Constant Probability of Success: The probability of success (denoted as p) remains constant for each trial.\n",
    "\n",
    "4. Independent Trials: The outcomes of each trial are independent of each other.\n",
    "\n",
    "5. Discrete Random Variable: The binomial random variable represents the number of successes in the fixed number of trials and is discrete.\n",
    "\n",
    "\n",
    "examples of events where binomial distribution can be applied:\n",
    "\n",
    "1. Coin Flipping:\n",
    "    Example: Tossing a fair coin multiple times and counting the number of heads. Each toss has two outcomes (heads or tails),\n",
    "    the probability of getting heads remains constant, and the trials are independent.\n",
    "\n",
    "2. Exam Success/Failure:\n",
    "        Example: The probability distribution of the number of students passing or failing an exam with a fixed number of \n",
    "        questions. Each question can be considered a trial, with two outcomes (pass or fail), and the probability of passing\n",
    "        remains constant.\n",
    "        \n",
    "'''"
   ]
  },
  {
   "cell_type": "markdown",
   "id": "f5c6960a-9563-4842-8b93-5878ecf3eec7",
   "metadata": {},
   "source": [
    "# Ans : 5"
   ]
  },
  {
   "cell_type": "code",
   "execution_count": 8,
   "id": "1e3b5da9-3a1c-432c-9e43-c5859f9f21b5",
   "metadata": {},
   "outputs": [
    {
     "data": {
      "image/png": "[encoded data removed]",
      "text/plain": [
       "<Figure size 640x480 with 1 Axes>"
      ]
     },
     "metadata": {},
     "output_type": "display_data"
    }
   ],
   "source": [
    "import numpy as np\n",
    "import matplotlib.pyplot as plt\n",
    "\n",
    "np.random.seed(42)\n",
    "\n",
    "sample_size = 1000\n",
    "probability_of_success = 0.4\n",
    "random_sample = np.random.binomial(n=1, p=probability_of_success, size=sample_size)\n",
    "\n",
    "plt.hist(random_sample, bins=[-0.5, 0.5, 1.5], edgecolor='black', align='mid', color='skyblue')\n",
    "plt.title('Binomial Distribution (n=1, p=0.4) - Random Sample of 1000')\n",
    "plt.xlabel('Outcome (0: Failure, 1: Success)')\n",
    "plt.ylabel('Frequency')\n",
    "plt.xticks([0, 1], ['Failure', 'Success'])\n",
    "plt.show()\n"
   ]
  },
  {
   "cell_type": "markdown",
   "id": "e787cedb-0ed5-480c-81b5-b7e9170716a6",
   "metadata": {},
   "source": [
    "# Ans : 6"
   ]
  },
  {
   "cell_type": "code",
   "execution_count": 9,
   "id": "7812c3dc-48ff-46e5-b3ff-46e9e04c7231",
   "metadata": {},
   "outputs": [
    {
     "name": "stdout",
     "output_type": "stream",
     "text": [
      "The CDF at k=3 is: 0.7575761331330659\n"
     ]
    }
   ],
   "source": [
    "import math\n",
    "\n",
    "def poisson_cdf(k, mean):\n",
    "    cdf_value = 0\n",
    "    for i in range(k + 1):\n",
    "        cdf_value += (math.exp(-mean) * (mean**i)) / math.factorial(i)\n",
    "    return cdf_value\n",
    "\n",
    "\n",
    "mean_value = 2.5\n",
    "point = 3\n",
    "\n",
    "cdf_result = poisson_cdf(point, mean_value)\n",
    "print(f\"The CDF at k={point} is: {cdf_result}\")"
   ]
  },
  {
   "cell_type": "markdown",
   "id": "874d88b0-66ae-415c-b360-272131ac73e4",
   "metadata": {},
   "source": [
    "# Ans : 7"
   ]
  },
  {
   "cell_type": "code",
   "execution_count": 10,
   "id": "522e9b6d-333b-44b1-9be1-515849a8da3e",
   "metadata": {},
   "outputs": [
    {
     "data": {
      "text/plain": [
       "'\\ndifferences between the Binomial and Poisson distributions:\\n\\n1. Number of Trials:\\n    > Binomial Distribution: Describes the number of successes in a fixed number of independent and identical trials (n).\\n     >Poisson Distribution: Describes the number of events occurring in a fixed interval of time or space.\\n    \\n\\n2. Nature of Random Variable:\\n    > Binomial Distribution: Represents a discrete random variable, typically the count of successes in a fixed number of trials.\\n    > Poisson Distribution: Also represents a discrete random variable, typically the count of events in a fixed interval.\\n    \\n3. Parameters:\\n    > Binomial Distribution: Requires two parameters - the number of trials (n) and the probability of success in each trial (p).\\n    > Poisson Distribution: Requires one parameter - the average rate of occurrence (λ).\\n    \\n4. Shape of Distribution:\\n    > Binomial Distribution: Can be symmetric or skewed, depending on the values of n and p. It approaches a normal distribution as n increases.\\n    > Poisson Distribution: Typically right-skewed and approaches a normal distribution as λ increases.\\n'"
      ]
     },
     "execution_count": 10,
     "metadata": {},
     "output_type": "execute_result"
    }
   ],
   "source": [
    "'''\n",
    "differences between the Binomial and Poisson distributions:\n",
    "\n",
    "1. Number of Trials:\n",
    "    > Binomial Distribution: Describes the number of successes in a fixed number of independent and identical trials (n).\n",
    "     >Poisson Distribution: Describes the number of events occurring in a fixed interval of time or space.\n",
    "    \n",
    "\n",
    "2. Nature of Random Variable:\n",
    "    > Binomial Distribution: Represents a discrete random variable, typically the count of successes in a fixed number of trials.\n",
    "    > Poisson Distribution: Also represents a discrete random variable, typically the count of events in a fixed interval.\n",
    "    \n",
    "3. Parameters:\n",
    "    > Binomial Distribution: Requires two parameters - the number of trials (n) and the probability of success in each trial (p).\n",
    "    > Poisson Distribution: Requires one parameter - the average rate of occurrence (λ).\n",
    "    \n",
    "4. Shape of Distribution:\n",
    "    > Binomial Distribution: Can be symmetric or skewed, depending on the values of n and p. It approaches a normal distribution as n increases.\n",
    "    > Poisson Distribution: Typically right-skewed and approaches a normal distribution as λ increases.\n",
    "'''"
   ]
  },
  {
   "cell_type": "markdown",
   "id": "35d7d205-b4bf-4454-816a-c406d2cb3c53",
   "metadata": {},
   "source": [
    "# Ans : 8"
   ]
  },
  {
   "cell_type": "code",
   "execution_count": 11,
   "id": "e7486748-9feb-4c4c-9816-b82b8af1d7e1",
   "metadata": {},
   "outputs": [
    {
     "name": "stdout",
     "output_type": "stream",
     "text": [
      "Sample Mean: 4.985\n",
      "Sample Variance: 5.001776776776777\n"
     ]
    }
   ],
   "source": [
    "import numpy as np\n",
    "\n",
    "np.random.seed(42)\n",
    "\n",
    "sample_size = 1000\n",
    "mean_value = 5\n",
    "random_sample = np.random.poisson(mean_value, size=sample_size)\n",
    "\n",
    "sample_mean = np.mean(random_sample)\n",
    "sample_variance = np.var(random_sample, ddof=1) \n",
    "\n",
    "print(f\"Sample Mean: {sample_mean}\")\n",
    "print(f\"Sample Variance: {sample_variance}\")\n"
   ]
  },
  {
   "cell_type": "markdown",
   "id": "b8c7e273-d748-4727-92d1-32a745e92309",
   "metadata": {},
   "source": [
    "# Ans : 9"
   ]
  },
  {
   "cell_type": "code",
   "execution_count": 12,
   "id": "ef23b389-5d99-4aa3-b0f0-a6a1a84bd9fe",
   "metadata": {},
   "outputs": [
    {
     "data": {
      "text/plain": [
       "'\\nBinomial Distribution: The variance is directly proportional to the product of the number of trials and the probability of \\n                        success, and it depends on the probability of failure as well.\\n                        \\nPoisson Distribution: In the Poisson distribution, the mean and variance are both determined by the average rate of occurrence\\n    (λ). The variance is equal to the mean, indicating that the spread of the distribution is solely determined by the average rate of events. As \\n    λ increases, both the mean and variance increase proportionally.\\n\\nThe Binomial distribution, the variance depends on both the number of trials and the probability of success, \\nwhile in the Poisson distribution, the variance is solely determined by the average rate of occurrence.\\n\\n\\n'"
      ]
     },
     "execution_count": 12,
     "metadata": {},
     "output_type": "execute_result"
    }
   ],
   "source": [
    "'''\n",
    "Binomial Distribution: The variance is directly proportional to the product of the number of trials and the probability of \n",
    "                        success, and it depends on the probability of failure as well.\n",
    "                        \n",
    "Poisson Distribution: In the Poisson distribution, the mean and variance are both determined by the average rate of occurrence\n",
    "    (λ). The variance is equal to the mean, indicating that the spread of the distribution is solely determined by the average rate of events. As \n",
    "    λ increases, both the mean and variance increase proportionally.\n",
    "\n",
    "The Binomial distribution, the variance depends on both the number of trials and the probability of success, \n",
    "while in the Poisson distribution, the variance is solely determined by the average rate of occurrence.\n",
    "\n",
    "\n",
    "'''\n"
   ]
  },
  {
   "cell_type": "markdown",
   "id": "cf0c3077-56c9-4e1f-a6d8-cc26d6d58633",
   "metadata": {},
   "source": [
    "# Ans : 10"
   ]
  },
  {
   "cell_type": "code",
   "execution_count": null,
   "id": "12b29b0f-87f2-4947-bf3d-a69b9a89c475",
   "metadata": {},
   "outputs": [],
   "source": []
  }
 ],
 "metadata": {
  "kernelspec": {
   "display_name": "Python 3 (ipykernel)",
   "language": "python",
   "name": "python3"
  },
  "language_info": {
   "codemirror_mode": {
    "name": "ipython",
    "version": 3
   },
   "file_extension": ".py",
   "mimetype": "text/x-python",
   "name": "python",
   "nbconvert_exporter": "python",
   "pygments_lexer": "ipython3",
   "version": "3.10.8"
  }
 },
 "nbformat": 4,
 "nbformat_minor": 5
}
